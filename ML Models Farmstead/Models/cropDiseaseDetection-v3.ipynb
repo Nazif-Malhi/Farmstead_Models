{
  "cells": [
    {
      "cell_type": "code",
      "execution_count": null,
      "metadata": {
        "id": "HuFv90BFqH8O"
      },
      "outputs": [],
      "source": [
        "import numpy as np\n",
        "import pandas as pd\n",
        "import os\n",
        "import random\n",
        "\n",
        "import matplotlib.image as mpimg\n",
        "import matplotlib.pyplot as plt\n",
        "import seaborn as  sns\n",
        "import cv2 \n",
        "import tensorflow \n",
        "\n",
        "from keras.preprocessing.image import ImageDataGenerator \n",
        "%matplotlib inline"
      ]
    },
    {
      "cell_type": "code",
      "execution_count": null,
      "metadata": {
        "colab": {
          "base_uri": "https://localhost:8080/"
        },
        "id": "dEJ7RNzfeqsC",
        "outputId": "3acfdf9b-d7dd-4888-cf78-f661cc507844"
      },
      "outputs": [
        {
          "name": "stdout",
          "output_type": "stream",
          "text": [
            "Found 18044 images belonging to 23 classes.\n",
            "Found 2599 images belonging to 23 classes.\n",
            "Found 5149 images belonging to 23 classes.\n"
          ]
        }
      ],
      "source": [
        "TrainingImagePath= '/content/drive/Othercomputers/My Laptop/dataset-crop-diseases/dataset-top-five-test-train/train'\n",
        "TestingImagePath= '/content/drive/Othercomputers/My Laptop/dataset-crop-diseases/dataset-top-five-test-train/test'\n",
        "ValidationImagePath= '/content/drive/Othercomputers/My Laptop/dataset-crop-diseases/dataset-top-five-test-train/val'\n",
        "\n",
        "\n",
        "train_datagen = ImageDataGenerator(\n",
        "    rescale=1./255,\n",
        "    shear_range=0.1,\n",
        "    zoom_range=0.1,\n",
        "    horizontal_flip=True\n",
        ")\n",
        "\n",
        "test_datagen = ImageDataGenerator(rescale=1./255)\n",
        "# generating traning data\n",
        "training_set= train_datagen.flow_from_directory(\n",
        "    TrainingImagePath,\n",
        "    target_size=(128,128),\n",
        "    batch_size=32,\n",
        "    class_mode='categorical')\n",
        "\n",
        "# generating testing data\n",
        "test_set= test_datagen.flow_from_directory(\n",
        "    TestingImagePath,\n",
        "    target_size=(128,128),\n",
        "    batch_size=32,\n",
        "    class_mode='categorical')\n",
        "\n",
        "# generating validate data\n",
        "valid_set= test_datagen.flow_from_directory(\n",
        "    ValidationImagePath,\n",
        "    target_size=(128,128),\n",
        "    batch_size=32,\n",
        "    class_mode='categorical')\n"
      ]
    },
    {
      "cell_type": "code",
      "execution_count": null,
      "metadata": {
        "id": "wWB_mpgCfhCY"
      },
      "outputs": [],
      "source": [
        "# def showImages(class_name):\n",
        "#   random_index= random.choice(list(range(1,49)))\n",
        "#   folder_path=os.path.join(TrainingImagePath,class_name)\n",
        "#   try:\n",
        "#     image_path=os.path.join(folder_path)\n",
        "#     plt.imshow(mpimg.imread(image_path))\n",
        "#   except:\n",
        "#     image_path=os.path.join(folder_path,str(random_index).zfill(2)+'.jpg')\n",
        "#     plt.imshow(mpimg.imread(image_path))\n",
        "#   plt.title(class_name)\n",
        "#   plt.axis(False)\n"
      ]
    },
    {
      "cell_type": "code",
      "execution_count": null,
      "metadata": {
        "id": "DG_9UCZ7ncFX"
      },
      "outputs": [],
      "source": [
        "# plt.figure(figsize=(20,20))\n",
        "# for labels , number in training_set.class_indices.items():\n",
        "#   plt.subplot(6,6, number+1)\n",
        "#   showImages(labels)\n",
        "\n",
        "\n"
      ]
    },
    {
      "cell_type": "code",
      "execution_count": null,
      "metadata": {
        "colab": {
          "base_uri": "https://localhost:8080/"
        },
        "id": "0dGfqC-apxum",
        "outputId": "8ea63643-0408-476f-f9bd-9b29e6a6460c"
      },
      "outputs": [
        {
          "data": {
            "text/plain": [
              "{'Corn_(maize)___healthy': 0,\n",
              " 'Corn___Cercospora_leaf-spot Gray_Leaf_Spot': 1,\n",
              " 'Corn___Common_Rust': 2,\n",
              " 'Corn___Leaf_Blight': 3,\n",
              " 'Cotton__bacterial_blight': 4,\n",
              " 'Cotton__curl_virus': 5,\n",
              " 'Cotton__fussarium_wilt': 6,\n",
              " 'Cotton__healthy': 7,\n",
              " 'Rice__Bacterial leaf blight': 8,\n",
              " 'Rice__Brown spot': 9,\n",
              " 'Rice__Leaf smut': 10,\n",
              " 'Rice___Healthy': 11,\n",
              " 'Rice___Hispa': 12,\n",
              " 'Rice___Leaf_Blast': 13,\n",
              " 'Sugarcane__Bacterial Blight': 14,\n",
              " 'Sugarcane__Healthy': 15,\n",
              " 'Sugarcane__RedRot': 16,\n",
              " 'Sugarcane__RedRust': 17,\n",
              " 'Wheat__Healthy': 18,\n",
              " 'Wheat___Brown_Rust': 19,\n",
              " 'Wheat___Yellow_Rust': 20,\n",
              " 'Wheat__septoria': 21,\n",
              " 'Wheat__stripe_rust': 22}"
            ]
          },
          "execution_count": 4,
          "metadata": {},
          "output_type": "execute_result"
        }
      ],
      "source": [
        "test_set.class_indices"
      ]
    },
    {
      "cell_type": "code",
      "execution_count": null,
      "metadata": {
        "colab": {
          "base_uri": "https://localhost:8080/"
        },
        "id": "b70ek8Tev_a7",
        "outputId": "83338326-f240-40fe-cb68-cd79217fe644"
      },
      "outputs": [
        {
          "name": "stdout",
          "output_type": "stream",
          "text": [
            "Mapping of pace and its ID {0: 'Corn_(maize)___healthy', 1: 'Corn___Cercospora_leaf-spot Gray_Leaf_Spot', 2: 'Corn___Common_Rust', 3: 'Corn___Leaf_Blight', 4: 'Cotton__bacterial_blight', 5: 'Cotton__curl_virus', 6: 'Cotton__fussarium_wilt', 7: 'Cotton__healthy', 8: 'Rice__Bacterial leaf blight', 9: 'Rice__Brown spot', 10: 'Rice__Leaf smut', 11: 'Rice___Healthy', 12: 'Rice___Hispa', 13: 'Rice___Leaf_Blast', 14: 'Sugarcane__Bacterial Blight', 15: 'Sugarcane__Healthy', 16: 'Sugarcane__RedRot', 17: 'Sugarcane__RedRust', 18: 'Wheat__Healthy', 19: 'Wheat___Brown_Rust', 20: 'Wheat___Yellow_Rust', 21: 'Wheat__septoria', 22: 'Wheat__stripe_rust'}\n",
            "\n",
            "The number of output neurons-- 23\n"
          ]
        }
      ],
      "source": [
        "TrainClasses= training_set.class_indices\n",
        "\n",
        "ResultMap={}\n",
        "for cropsDiseaseValue, cropDiseaseName in zip(TrainClasses.values(),TrainClasses.keys()):\n",
        "  ResultMap[cropsDiseaseValue]= cropDiseaseName\n",
        "\n",
        "import pickle\n",
        "with open(R'/content/drive/MyDrive/Colab Notebooks/lvy pro/ResultMap.pkl','wb')as f:\n",
        "  pickle.dump(ResultMap, f , pickle.HIGHEST_PROTOCOL)\n",
        "\n",
        "print('Mapping of pace and its ID', ResultMap)\n",
        "\n",
        "OutputNeurons=len(ResultMap)\n",
        "print('\\nThe number of output neurons--', OutputNeurons)\n"
      ]
    },
    {
      "cell_type": "code",
      "execution_count": null,
      "metadata": {
        "id": "rN7st4nwfol3"
      },
      "outputs": [],
      "source": [
        "from keras.models import Sequential\n",
        "from keras.layers import Convolution2D\n",
        "from keras.layers import MaxPool2D\n",
        "from keras.layers import Flatten\n",
        "from keras.layers import Dense\n",
        "\n",
        "classifier= Sequential()\n",
        "\n",
        "classifier.add(Convolution2D(32,kernel_size=(3,3), strides=(1,1),input_shape=(128,128,3),activation='relu'))\n",
        "\n",
        "\n",
        "classifier.add(MaxPool2D(pool_size=(2,2)))\n",
        "\n",
        "classifier.add(Convolution2D(64,kernel_size=(3,3),strides=(1,1), activation='relu'))\n",
        "\n",
        "classifier.add(MaxPool2D(pool_size=(2,2)))\n",
        "\n",
        "classifier.add(Flatten())\n",
        "\n",
        "classifier.add(Dense(256,activation='relu'))\n",
        "\n",
        "classifier.add(Dense(OutputNeurons,activation='softmax'))\n",
        "\n",
        "classifier.compile(loss='categorical_crossentropy', optimizer='rmsprop', metrics=['accuracy'])\n"
      ]
    },
    {
      "cell_type": "code",
      "execution_count": null,
      "metadata": {
        "colab": {
          "base_uri": "https://localhost:8080/"
        },
        "id": "nhT-xRStfonz",
        "outputId": "9f178131-0208-4ddd-9fef-dea957878a9e"
      },
      "outputs": [
        {
          "name": "stdout",
          "output_type": "stream",
          "text": [
            "Model: \"sequential\"\n",
            "_________________________________________________________________\n",
            " Layer (type)                Output Shape              Param #   \n",
            "=================================================================\n",
            " conv2d (Conv2D)             (None, 126, 126, 32)      896       \n",
            "                                                                 \n",
            " max_pooling2d (MaxPooling2D  (None, 63, 63, 32)       0         \n",
            " )                                                               \n",
            "                                                                 \n",
            " conv2d_1 (Conv2D)           (None, 61, 61, 64)        18496     \n",
            "                                                                 \n",
            " max_pooling2d_1 (MaxPooling  (None, 30, 30, 64)       0         \n",
            " 2D)                                                             \n",
            "                                                                 \n",
            " flatten (Flatten)           (None, 57600)             0         \n",
            "                                                                 \n",
            " dense (Dense)               (None, 256)               14745856  \n",
            "                                                                 \n",
            " dense_1 (Dense)             (None, 23)                5911      \n",
            "                                                                 \n",
            "=================================================================\n",
            "Total params: 14,771,159\n",
            "Trainable params: 14,771,159\n",
            "Non-trainable params: 0\n",
            "_________________________________________________________________\n"
          ]
        }
      ],
      "source": [
        "classifier.summary()"
      ]
    },
    {
      "cell_type": "code",
      "execution_count": null,
      "metadata": {
        "colab": {
          "base_uri": "https://localhost:8080/"
        },
        "id": "plOPcWnRforH",
        "outputId": "cc85fa04-fc57-4cf5-8074-59c85e37f1c8"
      },
      "outputs": [
        {
          "name": "stderr",
          "output_type": "stream",
          "text": [
            "/usr/local/lib/python3.7/dist-packages/ipykernel_launcher.py:11: UserWarning: `Model.fit_generator` is deprecated and will be removed in a future version. Please use `Model.fit`, which supports generators.\n",
            "  # This is added back by InteractiveShellApp.init_path()\n"
          ]
        },
        {
          "name": "stdout",
          "output_type": "stream",
          "text": [
            "Epoch 1/7\n",
            "564/564 [==============================] - 5661s 10s/step - loss: 0.9483 - accuracy: 0.6986 - val_loss: 0.5438 - val_accuracy: 0.8186\n",
            "Epoch 2/7\n",
            "564/564 [==============================] - 561s 994ms/step - loss: 0.5291 - accuracy: 0.8207 - val_loss: 0.4550 - val_accuracy: 0.8505\n",
            "Epoch 3/7\n",
            "564/564 [==============================] - 560s 992ms/step - loss: 0.4298 - accuracy: 0.8569 - val_loss: 0.5702 - val_accuracy: 0.8225\n",
            "Epoch 4/7\n",
            "564/564 [==============================] - 555s 984ms/step - loss: 0.3806 - accuracy: 0.8704 - val_loss: 0.5099 - val_accuracy: 0.8398\n",
            "Epoch 5/7\n",
            "564/564 [==============================] - 558s 988ms/step - loss: 0.3530 - accuracy: 0.8826 - val_loss: 0.4007 - val_accuracy: 0.8844\n",
            "Epoch 6/7\n",
            "564/564 [==============================] - 564s 1000ms/step - loss: 0.3318 - accuracy: 0.8897 - val_loss: 0.4475 - val_accuracy: 0.8808\n",
            "Epoch 7/7\n",
            "564/564 [==============================] - 560s 993ms/step - loss: 0.2988 - accuracy: 0.8994 - val_loss: 0.5296 - val_accuracy: 0.8633\n",
            "///////////////////////// total time taken -- 151  minutes ///////\n"
          ]
        }
      ],
      "source": [
        "\n",
        "import time\n",
        "\n",
        "StartTime=time.time()\n",
        "\n",
        "model_history=classifier.fit_generator(\n",
        "    training_set,\n",
        "    steps_per_epoch=len(training_set),\n",
        "    epochs=7,\n",
        "    validation_data=valid_set,\n",
        "    validation_steps=len(valid_set),\n",
        "    verbose=1\n",
        "    )\n",
        "\n",
        "EndTime= time.time()\n",
        "print('///////////////////////// total time taken --', round((EndTime-StartTime)/60), ' minutes ///////')"
      ]
    },
    {
      "cell_type": "code",
      "execution_count": null,
      "metadata": {
        "id": "xk01_D0TfotE"
      },
      "outputs": [],
      "source": [
        "accuracy= model_history.history['accuracy']\n",
        "val_accuracy = model_history.history['val_accuracy']\n",
        "\n",
        "loss=model_history.history['loss']\n",
        "val_loss=model_history.history['val_loss']\n"
      ]
    },
    {
      "cell_type": "code",
      "execution_count": null,
      "metadata": {
        "colab": {
          "base_uri": "https://localhost:8080/",
          "height": 231
        },
        "id": "0np9qbdxfo1S",
        "outputId": "bdefc4ed-492c-48e0-d668-0157cae1d2fb"
      },
      "outputs": [
        {
          "data": {
            "image/png": "[encoded data removed]",
            "text/plain": [
              "<Figure size 1080x720 with 2 Axes>"
            ]
          },
          "metadata": {},
          "output_type": "display_data"
        }
      ],
      "source": [
        "plt.figure(figsize=(15,10))\n",
        "\n",
        "plt.subplot(2,2,1)\n",
        "plt.plot(accuracy,label='Traningf accuracy')\n",
        "plt.plot(val_accuracy, label='Validation accuracy')\n",
        "plt.legend()\n",
        "plt.title('Training vs validation accuracy')\n",
        "\n",
        "\n",
        "plt.subplot(2,2,2)\n",
        "plt.plot(loss,label='Traningf loss')\n",
        "plt.plot(val_loss, label='Validation loss')\n",
        "plt.legend()\n",
        "plt.title('Training vs validation loss')\n",
        "\n",
        "plt.show()\n"
      ]
    },
    {
      "cell_type": "code",
      "execution_count": null,
      "metadata": {
        "colab": {
          "base_uri": "https://localhost:8080/"
        },
        "id": "fQ35hTpAfo3p",
        "outputId": "2452f92d-7a27-4b50-e589-7caed8c638b4"
      },
      "outputs": [
        {
          "name": "stderr",
          "output_type": "stream",
          "text": [
            "WARNING:absl:Found untraced functions such as _jit_compiled_convolution_op, _jit_compiled_convolution_op while saving (showing 2 of 2). These functions will not be directly callable after loading.\n"
          ]
        }
      ],
      "source": [
        "classifier.save('/content/drive/MyDrive/Colab Notebooks/lvy pro/classifier.pkl')\n"
      ]
    },
    {
      "cell_type": "code",
      "execution_count": null,
      "metadata": {
        "colab": {
          "background_save": true,
          "base_uri": "https://localhost:8080/",
          "height": 336
        },
        "id": "dxT7JFez0E2B",
        "outputId": "369f0df9-0e41-4849-a332-4a11ad7e7966"
      },
      "outputs": [
        {
          "data": {
            "image/png": "[encoded data removed]",
            "text/plain": [
              "<Figure size 432x288 with 1 Axes>"
            ]
          },
          "metadata": {},
          "output_type": "display_data"
        },
        {
          "name": "stdout",
          "output_type": "stream",
          "text": [
            "//////////////////////////////////////////////////////////////////////////////////////////////////////////////\n",
            "Prediction is--  Wheat__Healthy\n"
          ]
        }
      ],
      "source": [
        "from tensorflow.keras.utils import load_img, img_to_array\n",
        "\n",
        "testImage='/content/drive/Othercomputers/My Laptop/dataset-crop-diseases/dataset-top-five-crops/Corn_(maize)___healthy/00031d74-076e-4aef-b040-e068cd3576eb___R.S_HL 8315 copy 2(1).jpg'\n",
        "test_image=load_img(testImage,target_size=(128,128))\n",
        "test_image=img_to_array(test_image)\n",
        "\n",
        "test_image=np.expand_dims(test_image,axis=0)\n",
        "result=classifier.predict(test_image,verbose=0)\n",
        "\n",
        "img=cv2.imread(testImage)\n",
        "\n",
        "plt.imshow(img)\n",
        "plt.title('picture')\n",
        "plt.show()\n",
        "\n",
        "print('///////////'*10)\n",
        "print('Prediction is-- ',ResultMap[np.argmax(result)])\n"
      ]
    },
    {
      "cell_type": "code",
      "execution_count": null,
      "metadata": {
        "id": "PGeCQFFQ0FCX"
      },
      "outputs": [],
      "source": []
    },
    {
      "cell_type": "code",
      "execution_count": null,
      "metadata": {
        "id": "M0BThCCy0FEM"
      },
      "outputs": [],
      "source": []
    }
  ],
  "metadata": {
    "colab": {
      "provenance": []
    },
    "kernelspec": {
      "display_name": "Python 3",
      "name": "python3"
    },
    "language_info": {
      "name": "python"
    }
  },
  "nbformat": 4,
  "nbformat_minor": 0
}